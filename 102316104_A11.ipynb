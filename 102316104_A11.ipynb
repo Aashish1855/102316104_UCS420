{
 "cells": [
  {
   "cell_type": "markdown",
   "id": "2b4840df",
   "metadata": {},
   "source": [
    "1. Design a Cognitive Assistant for Reading Labels of medicine bottle (You can download\n",
    "Dataset from Internet)"
   ]
  },
  {
   "cell_type": "code",
   "execution_count": 4,
   "id": "dc0c53e7",
   "metadata": {},
   "outputs": [
    {
     "name": "stderr",
     "output_type": "stream",
     "text": [
      "[nltk_data] Downloading package punkt to\n",
      "[nltk_data]     C:\\Users\\Aashishsharma\\AppData\\Roaming\\nltk_data...\n",
      "[nltk_data]   Package punkt is already up-to-date!\n"
     ]
    },
    {
     "name": "stdout",
     "output_type": "stream",
     "text": [
      "Raw Extracted Text:\n",
      " X pharmacy\n",
      "fe\n",
      "\n",
      "|\n",
      "a\n",
      "\n",
      "| TAKE ONE TABLETS!\n",
      "| EVERY DAY\n",
      "\n",
      "\n",
      "\n",
      "Cleaned Text:\n",
      " x pharmacy fe a take one tablets every day\n",
      "\n",
      "\n",
      "--- Medicine Label Information ---\n",
      "Medicine Name: X\n",
      "Strength: Not Found\n",
      "Expiry Date: Not Found\n",
      "Dosage: take one tablets \n"
     ]
    }
   ],
   "source": [
    "import cv2\n",
    "import pytesseract\n",
    "import re\n",
    "import nltk\n",
    "nltk.download('punkt')\n",
    "\n",
    "pytesseract.pytesseract.tesseract_cmd = r'C:\\Program Files\\Tesseract-OCR\\tesseract.exe'\n",
    "\n",
    "def clean_text(text):\n",
    "    text = text.lower()\n",
    "    text = re.sub(r'[^a-zA-Z0-9\\s:/]', '', text)\n",
    "    text = re.sub(r'\\s+', ' ', text)\n",
    "    return text.strip()\n",
    "\n",
    "def extract_info(text):\n",
    "    info = {\n",
    "        'Medicine Name': None,\n",
    "        'Strength': None,\n",
    "        'Expiry Date': None,\n",
    "        'Dosage': None\n",
    "    }\n",
    "    lines = nltk.sent_tokenize(text)\n",
    "    if lines:\n",
    "        info['Medicine Name'] = lines[0].split(' ')[0].capitalize()\n",
    "\n",
    "    strength = re.search(r'\\b\\d{2,4}\\s?mg\\b', text)\n",
    "    if strength:\n",
    "        info['Strength'] = strength.group()\n",
    "\n",
    "    expiry = re.search(r'exp[\\s:]*([0-9]{2}/[0-9]{4})', text)\n",
    "    if expiry:\n",
    "        info['Expiry Date'] = expiry.group(1)\n",
    "\n",
    "    dosage = re.search(r'take\\s.*?(?=every|once|twice|$)', text)\n",
    "    if dosage:\n",
    "        info['Dosage'] = dosage.group()\n",
    "\n",
    "    return info\n",
    "\n",
    "def process_medicine_label(image_path):\n",
    "    image = cv2.imread(image_path)\n",
    "    image = cv2.cvtColor(image, cv2.COLOR_BGR2RGB)\n",
    "    extracted_text = pytesseract.image_to_string(image)\n",
    "    print(\"Raw Extracted Text:\\n\", extracted_text)\n",
    "    cleaned = clean_text(extracted_text)\n",
    "    print(\"\\nCleaned Text:\\n\", cleaned)\n",
    "    important_info = extract_info(cleaned)\n",
    "    print(\"\\n\\n--- Medicine Label Information ---\")\n",
    "    for key, value in important_info.items():\n",
    "        print(f\"{key}: {value if value else 'Not Found'}\")\n",
    "\n",
    "image_path = 'medicine_photo.jpeg'\n",
    "process_medicine_label(image_path)\n"
   ]
  },
  {
   "cell_type": "markdown",
   "id": "251d3f53",
   "metadata": {},
   "source": [
    "2. Design an Emotion-aware Cognitive Assistant using Facial Expression Detection"
   ]
  },
  {
   "cell_type": "code",
   "execution_count": null,
   "id": "eb1b0530",
   "metadata": {},
   "outputs": [
    {
     "ename": "ModuleNotFoundError",
     "evalue": "No module named 'landingai'",
     "output_type": "error",
     "traceback": [
      "\u001b[1;31m---------------------------------------------------------------------------\u001b[0m",
      "\u001b[1;31mModuleNotFoundError\u001b[0m                       Traceback (most recent call last)",
      "Cell \u001b[1;32mIn[1], line 9\u001b[0m\n\u001b[0;32m      7\u001b[0m LANDING_AI_API_KEY \u001b[38;5;241m=\u001b[39m \u001b[38;5;124m\"\u001b[39m\u001b[38;5;124mland_sk_Rnrvs9Vat224yGLx0btQZgBQLMxSmtOpLasDA8le8g3ue29MpC\u001b[39m\u001b[38;5;124m\"\u001b[39m\n\u001b[0;32m      8\u001b[0m \u001b[38;5;28;01mfrom\u001b[39;00m\u001b[38;5;250m \u001b[39m\u001b[38;5;21;01mPIL\u001b[39;00m\u001b[38;5;250m \u001b[39m\u001b[38;5;28;01mimport\u001b[39;00m Image\n\u001b[1;32m----> 9\u001b[0m \u001b[38;5;28;01mfrom\u001b[39;00m\u001b[38;5;250m \u001b[39m\u001b[38;5;21;01mlandingai\u001b[39;00m\u001b[38;5;21;01m.\u001b[39;00m\u001b[38;5;21;01mpredict\u001b[39;00m\u001b[38;5;250m \u001b[39m\u001b[38;5;28;01mimport\u001b[39;00m Predictor\n\u001b[0;32m     12\u001b[0m endpoint_id \u001b[38;5;241m=\u001b[39m \u001b[38;5;124m\"\u001b[39m\u001b[38;5;124m2b1da5ba-7fa6-48ab-a972-00de1671f52c\u001b[39m\u001b[38;5;124m\"\u001b[39m\n\u001b[0;32m     13\u001b[0m api_key \u001b[38;5;241m=\u001b[39m \u001b[38;5;124m\"\u001b[39m\u001b[38;5;124mYOUR_API_KEY\u001b[39m\u001b[38;5;124m\"\u001b[39m\n",
      "\u001b[1;31mModuleNotFoundError\u001b[0m: No module named 'landingai'"
     ]
    }
   ],
   "source": [
    "LANDING_AI_API_URL = \"https://YOUR_LANDING_AI_INSTANCE/predict\"\n",
    "LANDING_AI_API_KEY = \"land_sk_Rnrvs9Vat224yGLx0btQZgBQLMxSmtOpLasDA8le8g3ue29MpC\"\n",
    "from PIL import Image\n",
    "from landingai.predict import Predictor\n",
    "endpoint_id = \"2b1da5ba-7fa6-48ab-a972-00de1671f52c\"\n",
    "api_key = \"YOUR_API_KEY\"\n",
    "image = Image.open(\"images used\\angry-1.jpg\")\n",
    "predictor = Predictor(endpoint_id, api_key=api_key)\n",
    "predictions = predictor.predict(image)"
   ]
  }
 ],
 "metadata": {
  "kernelspec": {
   "display_name": "Python 3",
   "language": "python",
   "name": "python3"
  },
  "language_info": {
   "codemirror_mode": {
    "name": "ipython",
    "version": 3
   },
   "file_extension": ".py",
   "mimetype": "text/x-python",
   "name": "python",
   "nbconvert_exporter": "python",
   "pygments_lexer": "ipython3",
   "version": "3.12.1"
  }
 },
 "nbformat": 4,
 "nbformat_minor": 5
}
