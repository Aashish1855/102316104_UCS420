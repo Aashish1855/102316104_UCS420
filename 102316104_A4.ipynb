{
 "cells": [
  {
   "cell_type": "markdown",
   "metadata": {},
   "source": [
    "Q.1 Write a program to create a NumPy 1D-array with 5 elements and perform basic\n",
    "operations like:\n",
    "a) Addition of 2 in all the element\n",
    "b) Multiply 3 with all the elements\n",
    "c) Divide every element by 2"
   ]
  },
  {
   "cell_type": "code",
   "execution_count": 2,
   "metadata": {},
   "outputs": [
    {
     "name": "stdout",
     "output_type": "stream",
     "text": [
      "[3 4 5 6 7]\n",
      "[ 9 12 15 18 21]\n",
      "[ 4.5  6.   7.5  9.  10.5]\n"
     ]
    }
   ],
   "source": [
    "#Question 1\n",
    "import numpy as np \n",
    "ls=[1,2,3,4,5]\n",
    "arr=np.array(ls)\n",
    "#Part 1\n",
    "arr+=2\n",
    "print(arr)\n",
    "#Part 2\n",
    "arr*=3\n",
    "print(arr)\n",
    "#Part 3\n",
    "arr=arr/2\n",
    "print(arr)\n"
   ]
  },
  {
   "cell_type": "markdown",
   "metadata": {},
   "source": [
    "Q.2 Questions on Basic NumPy Array:\n",
    "a) Reverse the NumPy array: arr = np.array([1, 2, 3, 6, 4, 5])\n",
    "b) Find the most frequent value and their indice(s) in the following arrays:\n",
    "i. x = np.array([1,2,3,4,5,1,2,1,1,1])\n",
    "ii. y = np.array([1, 1, 1, 2, 3, 4, 2, 4, 3, 3, ])"
   ]
  },
  {
   "cell_type": "code",
   "execution_count": 27,
   "metadata": {},
   "outputs": [
    {
     "name": "stdout",
     "output_type": "stream",
     "text": [
      "[1 2 3 6 5 4]\n",
      "[4 5 6 3 2 1]\n",
      "[1 2 3 4 5 1 2 1 1 1]\n",
      "1\n",
      "[1 1 1 2 3 4 2 4 3 3 3]\n",
      "3\n"
     ]
    }
   ],
   "source": [
    "#Question 2\n",
    "ls=[1,2,3,6,5,4]\n",
    "arr=np.array(ls)\n",
    "#Part 1\n",
    "print(arr)\n",
    "print(arr[::-1])\n",
    "#Part 2\n",
    "x = np.array([1,2,3,4,5,1,2,1,1,1])\n",
    "most_frequent_value = np.bincount(x).argmax()\n",
    "indices = np.where(x == most_frequent_value)[0]\n",
    "print(x)\n",
    "print(most_frequent_value)\n",
    "#Part 3\n",
    "y = np.array([1, 1, 1, 2, 3, 4, 2, 4, 3, 3, 3])\n",
    "print(y)\n",
    "most_frequent_value = np.bincount(y).argmax()\n",
    "indices = np.where(y== most_frequent_value)[0]\n",
    "print(most_frequent_value)\n"
   ]
  },
  {
   "cell_type": "markdown",
   "metadata": {},
   "source": [
    "Q.3 For the given 2-D array arr=np.array([10, 20, 30], [40, 50, 60], [70, 80, 90]), access\n",
    "elements using row and column indices as follows:\n",
    "a) Access 1st row, 2nd column\n",
    "b) Access 3rd row, 1st column"
   ]
  },
  {
   "cell_type": "code",
   "execution_count": 33,
   "metadata": {},
   "outputs": [
    {
     "name": "stdout",
     "output_type": "stream",
     "text": [
      "[[10 20 30]\n",
      " [40 50 60]\n",
      " [70 80 90]]\n",
      "20\n"
     ]
    }
   ],
   "source": [
    "#Question 3\n",
    "arr=np.array([[10, 20, 30], [40, 50, 60], [70, 80, 90]])\n",
    "print(arr)\n",
    "print(arr[0][1])\n",
    "print(arr[2][0])"
   ]
  },
  {
   "cell_type": "markdown",
   "metadata": {},
   "source": [
    "Q.4 Write program to create an 1-D NumPy array named <<Your Name>> with evenly\n",
    "spaced 25 numbers from 10 to 100 using linspace(). Print the dimensions of the array,\n",
    "shape, total elements, the data type of each element and total number of bytes consumed\n",
    "by the array. Find the transpose of this array using reshape() attribute. Can we do the same\n",
    "with T attribute?"
   ]
  },
  {
   "cell_type": "code",
   "execution_count": 3,
   "metadata": {},
   "outputs": [
    {
     "name": "stdout",
     "output_type": "stream",
     "text": [
      "Array: [ 10.    13.75  17.5   21.25  25.    28.75  32.5   36.25  40.    43.75\n",
      "  47.5   51.25  55.    58.75  62.5   66.25  70.    73.75  77.5   81.25\n",
      "  85.    88.75  92.5   96.25 100.  ]\n",
      "Dimensions: 1\n",
      "Shape: (25,)\n",
      "Total elements: 25\n",
      "Data type of elements: float64\n",
      "Total bytes consumed: 200\n",
      "\n",
      "Transpose using reshape():\n",
      " [[ 10.  ]\n",
      " [ 13.75]\n",
      " [ 17.5 ]\n",
      " [ 21.25]\n",
      " [ 25.  ]\n",
      " [ 28.75]\n",
      " [ 32.5 ]\n",
      " [ 36.25]\n",
      " [ 40.  ]\n",
      " [ 43.75]\n",
      " [ 47.5 ]\n",
      " [ 51.25]\n",
      " [ 55.  ]\n",
      " [ 58.75]\n",
      " [ 62.5 ]\n",
      " [ 66.25]\n",
      " [ 70.  ]\n",
      " [ 73.75]\n",
      " [ 77.5 ]\n",
      " [ 81.25]\n",
      " [ 85.  ]\n",
      " [ 88.75]\n",
      " [ 92.5 ]\n",
      " [ 96.25]\n",
      " [100.  ]]\n",
      "\n",
      "Transpose using T attribute:\n",
      " [ 10.    13.75  17.5   21.25  25.    28.75  32.5   36.25  40.    43.75\n",
      "  47.5   51.25  55.    58.75  62.5   66.25  70.    73.75  77.5   81.25\n",
      "  85.    88.75  92.5   96.25 100.  ]\n",
      "\n",
      "Using T attribute does not change a 1-D array because it has only one axis.\n"
     ]
    }
   ],
   "source": [
    "Your_Name = np.linspace(10, 100, 25)\n",
    "print(\"Array:\", Your_Name)\n",
    "print(\"Dimensions:\", Your_Name.ndim)\n",
    "print(\"Shape:\", Your_Name.shape)\n",
    "print(\"Total elements:\", Your_Name.size)\n",
    "print(\"Data type of elements:\", Your_Name.dtype)\n",
    "print(\"Total bytes consumed:\", Your_Name.nbytes)\n",
    "Your_Name_transpose = Your_Name.reshape(25, 1)\n",
    "print(\"\\nTranspose using reshape():\\n\", Your_Name_transpose)\n",
    "Your_Name_T = Your_Name.T\n",
    "print(\"\\nTranspose using T attribute:\\n\", Your_Name_T)\n",
    "print(\"\\nUsing T attribute does not change a 1-D array because it has only one axis.\")\n"
   ]
  },
  {
   "cell_type": "markdown",
   "metadata": {},
   "source": [
    "Q5. Create a 2-D Array of three rows and four columns, named ucs420_<your_name>>\n",
    "with following values – 10, 20, 30, 40, 50, 60, 70, 80, 90, 15, 20, 35. Compute the mean,\n",
    "median, max, min, unique elements. Reshape the array to four rows and three columns and\n",
    "name it as reshaped_ ucs420_<your_name>>. Resize the array to two rows and three\n",
    "columns and name it as resized_ ucs420_<your_name>>."
   ]
  },
  {
   "cell_type": "code",
   "execution_count": 4,
   "metadata": {},
   "outputs": [
    {
     "name": "stdout",
     "output_type": "stream",
     "text": [
      "Array: [[10 20 30 40]\n",
      " [50 60 70 80]\n",
      " [90 15 20 35]]\n",
      "Mean: 43.333333333333336\n",
      "Median: 37.5\n",
      "Max: 90\n",
      "Min: 10\n",
      "Unique elements: [10 15 20 30 35 40 50 60 70 80 90]\n",
      "\n",
      "Reshaped array (4x3):\n",
      " [[10 20 30]\n",
      " [40 50 60]\n",
      " [70 80 90]\n",
      " [15 20 35]]\n",
      "\n",
      "Resized array (2x3):\n",
      " [[10 20 30]\n",
      " [40 50 60]]\n"
     ]
    }
   ],
   "source": [
    "ucs420_Your_Name = np.array([[10, 20, 30, 40], [50, 60, 70, 80], [90, 15, 20, 35]])\n",
    "print(\"Array:\", ucs420_Your_Name)\n",
    "print(\"Mean:\", np.mean(ucs420_Your_Name))\n",
    "print(\"Median:\", np.median(ucs420_Your_Name))\n",
    "print(\"Max:\", np.max(ucs420_Your_Name))\n",
    "print(\"Min:\", np.min(ucs420_Your_Name))\n",
    "print(\"Unique elements:\", np.unique(ucs420_Your_Name))\n",
    "reshaped_ucs420_Your_Name = ucs420_Your_Name.reshape(4, 3)\n",
    "print(\"\\nReshaped array (4x3):\\n\", reshaped_ucs420_Your_Name)\n",
    "resized_ucs420_Your_Name = np.resize(ucs420_Your_Name, (2, 3))\n",
    "print(\"\\nResized array (2x3):\\n\", resized_ucs420_Your_Name)"
   ]
  }
 ],
 "metadata": {
  "kernelspec": {
   "display_name": "Python 3",
   "language": "python",
   "name": "python3"
  },
  "language_info": {
   "codemirror_mode": {
    "name": "ipython",
    "version": 3
   },
   "file_extension": ".py",
   "mimetype": "text/x-python",
   "name": "python",
   "nbconvert_exporter": "python",
   "pygments_lexer": "ipython3",
   "version": "3.12.1"
  }
 },
 "nbformat": 4,
 "nbformat_minor": 2
}
