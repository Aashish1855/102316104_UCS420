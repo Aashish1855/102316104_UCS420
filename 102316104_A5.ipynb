{
 "cells": [
  {
   "cell_type": "markdown",
   "metadata": {},
   "source": [
    "Q.1 For the array gfg = np.matrix('[4, 1, 9; 12, 3, 1; 4, 5, 6]'), Find\n",
    "1. Sum of all elements\n",
    "2. Sum of all elements row-wise\n",
    "3. Sum of all elements column-wise"
   ]
  },
  {
   "cell_type": "code",
   "execution_count": null,
   "metadata": {},
   "outputs": [],
   "source": [
    "import numpy as np\n",
    "gfg=np.matrix('[4,1,9;12,3,1;4,5,6]')\n"
   ]
  },
  {
   "cell_type": "markdown",
   "metadata": {},
   "source": [
    "Q2.\n",
    "1. For the array: array = np.array([10, 52, 62, 16, 16, 54, 453]), find\n",
    "2. Sorted array\n",
    "3. Indices of sorted array\n",
    "4. 4 smallest elements\n",
    "5. 5 largest elements.\n",
    "1. For the array: array = np.array([1.0, 1.2, 2.2, 2.0, 3.0, 2.0]), find\n",
    "2. Integer elements only\n",
    "3. Float elements only"
   ]
  },
  {
   "cell_type": "code",
   "execution_count": null,
   "metadata": {},
   "outputs": [],
   "source": []
  },
  {
   "cell_type": "markdown",
   "metadata": {},
   "source": [
    "Q.3 You are given a weekly sales dataset and need to perform various operations using NumPy broadcasting.\n",
    "1. Generate your unique sales dataset:Take the sum of the ASCII values of the initials of your first and last name. Call this value X. (If your initials are A B → ASCII sum = 65+ 66 = 131 → sales = [131, 181, 231, 281, 331].)\n",
    "Create a NumPy array sales with values [X, X+50, X+100, X+150,X+200].\n",
    "2. Compute your personalized tax rate as ((X % 5) + 5) / 100.\n",
    "Use broadcasting to apply this tax rate to each sales value.\n",
    "3. Adjust sales based on discount:\n",
    " If sales < X+100, apply a 5% discount.\n",
    " If sales >= X+100, apply a 10% discount.\n",
    "4. Expand sales data for multiple weeks:\n",
    "Create a 3×5 matrix representing three weeks of sales by stacking sales three times using broadcasting.\n",
    "Increase sales by 2% per week using element-wise broadcasting."
   ]
  },
  {
   "cell_type": "code",
   "execution_count": null,
   "metadata": {},
   "outputs": [],
   "source": []
  },
  {
   "cell_type": "markdown",
   "metadata": {},
   "source": [
    "Q4.Generate x values using np.linspace() from -10 to 10 with 100 points. Use\n",
    "each function from the list below and compute y values using NumPy:\n",
    "1. Y = x2\n",
    "2. Y = sin(x)\n",
    "3. Y = ex\n",
    "4. Y = log(|x| + 1)\n",
    "Plot the chosen function using Matplotlib. Add title, labels, and grid for clarity"
   ]
  },
  {
   "cell_type": "code",
   "execution_count": null,
   "metadata": {},
   "outputs": [],
   "source": []
  }
 ],
 "metadata": {
  "kernelspec": {
   "display_name": "Python 3",
   "language": "python",
   "name": "python3"
  },
  "language_info": {
   "codemirror_mode": {
    "name": "ipython",
    "version": 3
   },
   "file_extension": ".py",
   "mimetype": "text/x-python",
   "name": "python",
   "nbconvert_exporter": "python",
   "pygments_lexer": "ipython3",
   "version": "3.12.1"
  }
 },
 "nbformat": 4,
 "nbformat_minor": 2
}
