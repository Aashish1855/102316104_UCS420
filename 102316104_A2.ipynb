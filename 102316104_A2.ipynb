{
 "cells": [
  {
   "cell_type": "markdown",
   "metadata": {},
   "source": [
    "Q1. Create a List L that is defined as= [10, 20, 30, 40, 50, 60, 70, 80].\n",
    "1. WAP to add 200 and 300 to L.\n",
    "2. WAP to remove 10 and 30 from L.\n",
    "3. WAP to sort L in ascending order.\n",
    "4. WAP to sort L in descending order."
   ]
  },
  {
   "cell_type": "code",
   "execution_count": 1,
   "metadata": {},
   "outputs": [
    {
     "name": "stdout",
     "output_type": "stream",
     "text": [
      "Question 1\n",
      "The Starting list:- [10, 20, 30, 40, 50, 60, 70, 80]\n",
      "The List after adding 200,300:- [10, 20, 30, 40, 50, 60, 70, 80, 200, 300]\n",
      "The list after removing 10,30:- [20, 40, 50, 60, 70, 80, 200, 300]\n",
      "Sorted list:- [20, 40, 50, 60, 70, 80, 200, 300]\n",
      "Sorted list in reversed order:- [300, 200, 80, 70, 60, 50, 40, 20]\n"
     ]
    }
   ],
   "source": [
    "#Question-1\n",
    "print(\"Question 1\")\n",
    "ls=[10,20,30,40,50,60,70,80]\n",
    "print(\"The Starting list:-\",ls)\n",
    "ls.append(200)\n",
    "ls.append(300)\n",
    "print(\"The List after adding 200,300:-\",ls)\n",
    "ls.remove(10)\n",
    "ls.remove(30)\n",
    "print(\"The list after removing 10,30:-\",ls)\n",
    "ls.sort(reverse=False)\n",
    "print(\"Sorted list:-\",ls)\n",
    "ls.sort(reverse=True)\n",
    "print(\"Sorted list in reversed order:-\",ls)"
   ]
  },
  {
   "cell_type": "markdown",
   "metadata": {},
   "source": [
    "Q2. Create a tuple of marks scored as scores = (45, 89.5, 76, 45.4, 89, 92, 58, 45) and perform the following operations using tuple functions:\n",
    "1. Identify the highest score and its index in the tuple.\n",
    "2. Find the lowest score and count how many times it appears.\n",
    "3. Reverse the tuple and return it as a list.\n",
    "4. Check if a specific score ‘76’ (input by the user) is present in the tuple and print its first occurrence index, or a message saying it’s not present."
   ]
  },
  {
   "cell_type": "code",
   "execution_count": 2,
   "metadata": {},
   "outputs": [
    {
     "name": "stdout",
     "output_type": "stream",
     "text": [
      "Question 2:-\n",
      "Highest marks:- 92 at index 5\n",
      "Lowest marks is:- 45  and it appeared 2\n",
      "Reversed tuple into a list [45, 58, 92, 89, 45.4, 76, 89.5, 45]\n",
      "Not found\n"
     ]
    }
   ],
   "source": [
    "#Question-2\n",
    "print(\"Question 2:-\")\n",
    "tu=(45,89.5,76,45.4,89,92,58,45)\n",
    "print(\"Highest marks:-\",max(tu),\"at index\",tu.index(max(tu)))\n",
    "print(\"Lowest marks is:-\",min(tu),\" and it appeared\",tu.count(min(tu)))\n",
    "ls_q2=list(tu[::-1])\n",
    "print(\"Reversed tuple into a list\",ls_q2)\n",
    "x=int(input(\"Enter a number=\"))\n",
    "if(tu.count(x)>0):\n",
    "    print(tu.index(x))\n",
    "else:\n",
    "    print(\"Not found\")"
   ]
  },
  {
   "cell_type": "markdown",
   "metadata": {},
   "source": [
    "Q3. WAP to create a list of 100 random numbers between 100 and 900. Count and print\n",
    "the:\n",
    "1. All odd numbers\n",
    "2. All even numbers\n",
    "3. All prime numbers"
   ]
  },
  {
   "cell_type": "code",
   "execution_count": 3,
   "metadata": {},
   "outputs": [
    {
     "name": "stdout",
     "output_type": "stream",
     "text": [
      "Question 3\n",
      "Even Number=\n",
      "326,368,364,590,132,486,352,636,332,818,846,404,848,856,506,140,424,132,734,580,228,290,106,870,888,288,264,548,338,422,250,318,898,394,526,788,822,408,656,124,612,496,492,700,316,312,524,574,554,162,572,122,676,252,812,694,690,406,374,\n",
      "Odd Number=\n",
      "619,705,577,325,869,825,225,457,797,775,415,355,507,181,247,617,837,191,739,407,157,317,525,765,767,675,229,887,303,801,793,833,663,871,459,391,893,369,137,855,493,\n",
      "Prime Number=\n",
      "619,577,457,797,181,617,191,739,157,317,229,887,137,\n",
      "\n"
     ]
    }
   ],
   "source": [
    "#Question-3\n",
    "print(\"Question 3\")\n",
    "from random import randint as rd\n",
    "ls_q3=[]\n",
    "for i in range(100):\n",
    "    ls_q3.append(rd(100,900))\n",
    "print(\"Even Number=\")\n",
    "for i in ls_q3:\n",
    "    if(i%2==0):\n",
    "        print(i,end=\",\")\n",
    "print(\"\\nOdd Number=\")\n",
    "for i in ls_q3:\n",
    "    if(i%2!=0):\n",
    "        print(i,end=\",\")\n",
    "print(\"\\nPrime Number=\")\n",
    "isPrime=False\n",
    "for i in ls_q3:\n",
    "    isPrime=True\n",
    "    for j in range(2,i):\n",
    "        if(i%j==0):\n",
    "            isPrime=False\n",
    "    if(isPrime):\n",
    "        print(i,end=\",\")\n",
    "print(\"\\n\")\n"
   ]
  },
  {
   "cell_type": "markdown",
   "metadata": {},
   "source": [
    "Q4. Consider the following two sets, A and B, represenƟng scores of two teams in mulƟple\n",
    "matches. A = {34, 56, 78, 90} and B = {78, 45, 90, 23}\n",
    "WAP to perform the following operaƟons using set funcƟons:\n",
    "1. Find the unique scores achieved by both teams (union of sets).\n",
    "2. Identify the scores that are common to both teams (intersecƟon of sets).\n",
    "3. Find the scores that are exclusive to each team (symmetric difference).\n",
    "4. Check if the scores of team A are a subset of team B, and if team B's scores are a superset of team A.\n",
    "5. Remove a specific score X (input by the user) from set A if it exists. If not, print a message saying it is not present."
   ]
  },
  {
   "cell_type": "code",
   "execution_count": 4,
   "metadata": {},
   "outputs": [
    {
     "name": "stdout",
     "output_type": "stream",
     "text": [
      "Question 4=\n",
      "The union of a and b {34, 45, 78, 23, 56, 90}\n",
      "The intersection of a and b {90, 78}\n",
      "The differance b/w and b {56, 34}\n",
      "if a is subset of b False\n",
      "Not found\n",
      "The list after removing 12 is {56, 34, 90, 78}\n"
     ]
    }
   ],
   "source": [
    "#Question-4\n",
    "print(\"Question 4=\")\n",
    "a={34,56,78,90}\n",
    "b={78,45,90,23}\n",
    "print(\"The union of a and b\",a.union(b))\n",
    "print(\"The intersection of a and b\",a.intersection(b))\n",
    "print(\"The differance b/w and b\",a.difference(b))\n",
    "print(\"if a is subset of b\",a.issubset(b))\n",
    "x=int(input(\"Enter Score to search=\"))\n",
    "try:\n",
    "    a.remove(x)\n",
    "except:\n",
    "    print(\"Not found\")\n",
    "print(\"The list after removing\",x,\"is\",a)"
   ]
  },
  {
   "cell_type": "markdown",
   "metadata": {},
   "source": [
    "5. Write a program to rename a key city to a locaƟon in the following dictionary."
   ]
  },
  {
   "cell_type": "code",
   "execution_count": 5,
   "metadata": {},
   "outputs": [
    {
     "name": "stdout",
     "output_type": "stream",
     "text": [
      "{'name': 'kelly', 'age': 25, 'salary': 8000, 'location': 'New york'}\n"
     ]
    }
   ],
   "source": [
    "#Question-5\n",
    "sample_dict={\n",
    "    \"name\":\"kelly\",\n",
    "    \"age\":25,\n",
    "    \"salary\":8000,\n",
    "    \"city\":\"New york\"\n",
    "}\n",
    "sample_dict.update({\"location\":\"New york\"})\n",
    "sample_dict.pop(\"city\")\n",
    "print(sample_dict)"
   ]
  }
 ],
 "metadata": {
  "kernelspec": {
   "display_name": "Python 3",
   "language": "python",
   "name": "python3"
  },
  "language_info": {
   "codemirror_mode": {
    "name": "ipython",
    "version": 3
   },
   "file_extension": ".py",
   "mimetype": "text/x-python",
   "name": "python",
   "nbconvert_exporter": "python",
   "pygments_lexer": "ipython3",
   "version": "3.12.1"
  }
 },
 "nbformat": 4,
 "nbformat_minor": 2
}
